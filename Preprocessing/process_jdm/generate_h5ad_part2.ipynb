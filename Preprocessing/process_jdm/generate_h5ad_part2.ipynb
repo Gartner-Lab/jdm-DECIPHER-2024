{
 "cells": [
  {
   "cell_type": "code",
   "execution_count": 1,
   "id": "d61ebe17",
   "metadata": {},
   "outputs": [],
   "source": [
    "import scanpy as sc\n",
    "import anndata as ad\n",
    "import pandas as pd"
   ]
  },
  {
   "cell_type": "code",
   "execution_count": 2,
   "id": "67ecd3ab",
   "metadata": {},
   "outputs": [],
   "source": [
    "# load the file\n",
    "adata = sc.read_h5ad(\"jdm_obj_09-20-23.h5ad\")"
   ]
  },
  {
   "cell_type": "code",
   "execution_count": 3,
   "id": "b60f1a9c",
   "metadata": {},
   "outputs": [],
   "source": [
    "# add metadata\n",
    "adata.uns[\"title\"]=\"CITEseq of JDM PBMCs\"\n",
    "adata.uns[\"description\"]=\"Mapping immune dysregulation in juvenile dermatomyositis at single cell resolution\"\n",
    "adata.uns[\"schema_version\"]=\"3.0.0\"\n",
    "adata.uns[\"batch_condition\"]=\"well\"\n",
    "adata.uns[\"default_embedding\"]=\"X_wnn.umap\""
   ]
  },
  {
   "cell_type": "code",
   "execution_count": 4,
   "id": "74d8c58e",
   "metadata": {},
   "outputs": [],
   "source": [
    "# convert formats for metadata\n",
    "categorical_cols = adata.obs.dtypes.index[(adata.obs.dtypes==\"object\")].tolist()\n",
    "for col in categorical_cols:\n",
    "    adata.obs[col] =  adata.obs[col].astype('category')\n",
    "float_cols = adata.obs.dtypes.index[(adata.obs.dtypes==\"float64\")].tolist()\n",
    "for col in float_cols:\n",
    "    adata.obs[col] =  adata.obs[col].astype('float32').round(3)"
   ]
  },
  {
   "cell_type": "code",
   "execution_count": 7,
   "id": "9f73804b",
   "metadata": {},
   "outputs": [
    {
     "data": {
      "text/plain": [
       "Index(['orig.ident', 'nCount_RNA', 'nFeature_RNA', 'nCount_ADT',\n",
       "       'nFeature_ADT', 'percent.mt', 'percent.ribo', 'S.Score', 'G2M.Score',\n",
       "       'Phase', 'RNA.weight', 'cluster_number', 'cluster_label', 'visit',\n",
       "       'disease_group', 'case_control', 'age', 'on_meds', 'steroids',\n",
       "       'other_immune_suppressant', 'MSA', 'DA_cat', 'medpred', 'preddose',\n",
       "       'medmethyl', 'methyldose', 'medmtx', 'medhql', 'medmmf', 'medivig',\n",
       "       'vasglobal', 'vascutaneous', 'vasmuscle', 'cdasiact', 'menzymeyn',\n",
       "       'mmt8score', 'chaqscore', 'vaspatient', 'donor_id',\n",
       "       'organism_ontology_term_id', 'assay_ontology_term',\n",
       "       'tissue_ontology_term_id', 'suspension_type',\n",
       "       'developmental_stage_ontology_term_id', 'sex_ontology_term_id',\n",
       "       'disease_ontology_term_id', 'self_reported_ethnicity_ontology_term_id',\n",
       "       'cell_type_ontology_term_id'],\n",
       "      dtype='object')"
      ]
     },
     "execution_count": 7,
     "metadata": {},
     "output_type": "execute_result"
    }
   ],
   "source": [
    "adata.obs.columns"
   ]
  },
  {
   "cell_type": "code",
   "execution_count": 23,
   "id": "f1eed553",
   "metadata": {},
   "outputs": [
    {
     "data": {
      "text/plain": [
       "nan"
      ]
     },
     "execution_count": 23,
     "metadata": {},
     "output_type": "execute_result"
    }
   ],
   "source": [
    "adata.obs['vascutaneous'][adata.obs['vascutaneous'].isnull()][1]"
   ]
  },
  {
   "cell_type": "code",
   "execution_count": 24,
   "id": "611ea101",
   "metadata": {},
   "outputs": [],
   "source": [
    "import numpy as np"
   ]
  },
  {
   "cell_type": "code",
   "execution_count": 27,
   "id": "effdc8f4",
   "metadata": {},
   "outputs": [
    {
     "data": {
      "text/plain": [
       "AAACCCACAATTTCTC-1    True\n",
       "AAACCCACATCGAGCC-1    True\n",
       "AAACCCAGTAACGATA-1    True\n",
       "AAACCCATCAAGTGTC-1    True\n",
       "AAACGAAAGTTGCGAG-1    True\n",
       "                      ... \n",
       "TTTGGAGTCAGTCACA-6    True\n",
       "TTTGGTTCAATGTGGG-6    True\n",
       "TTTGGTTCATGCCATA-6    True\n",
       "TTTGTTGCAAGATGGC-6    True\n",
       "TTTGTTGGTGTGTCGC-6    True\n",
       "Name: vascutaneous, Length: 23161, dtype: bool"
      ]
     },
     "execution_count": 27,
     "metadata": {},
     "output_type": "execute_result"
    }
   ],
   "source": [
    "np.isnan(adata.obs['vascutaneous'][adata.obs['vascutaneous'].isnull()])"
   ]
  },
  {
   "cell_type": "code",
   "execution_count": 8,
   "id": "028f125a",
   "metadata": {},
   "outputs": [],
   "source": [
    "#menzymeyn # 1, 0, or Nan\n",
    "adata.obs[\"menzymeyn\"] = adata.obs[\"menzymeyn\"].astype('category')\n",
    "adata.obs[\"medpred\"] = adata.obs[\"medpred\"].astype('category')\n",
    "adata.obs[\"medmethyl\"] = adata.obs[\"medmethyl\"].astype('category')\n",
    "adata.obs[\"medmtx\"] = adata.obs[\"medmtx\"].astype('category')\n",
    "adata.obs[\"medmmf\"] = adata.obs[\"medmmf\"].astype('category')\n",
    "adata.obs[\"medhql\"] = adata.obs[\"medhql\"].astype('category')\n",
    "adata.obs[\"medivig\"] = adata.obs[\"medivig\"].astype('category')\n",
    "adata.obs[\"cluster_number\"] = adata.obs[\"cluster_number\"].astype('category')"
   ]
  },
  {
   "cell_type": "code",
   "execution_count": null,
   "id": "56d2deff",
   "metadata": {},
   "outputs": [],
   "source": [
    "# cdasiact, mmt8score should be integer"
   ]
  },
  {
   "cell_type": "code",
   "execution_count": null,
   "id": "57a646b0",
   "metadata": {},
   "outputs": [],
   "source": [
    "#For the four VAS scores, these can be continuous variables; same with CDASIact scores;\n",
    "#\"menzymeyn\" is binary (y/n), \"mmt8score\" continuous, \"chaqscore\" continuous; remove \"p155\", \"nxp2\", \n",
    "#\"mda5\" as this is all captured in \"MSA\" which is categorical;  \"DA_cat\" keep categorical\n",
    "# many of the numbers have multiple decimal places--would it make sense to round to two decimals? "
   ]
  },
  {
   "cell_type": "code",
   "execution_count": 9,
   "id": "55360f18",
   "metadata": {},
   "outputs": [],
   "source": [
    "# add index\n",
    "ensembl = pd.read_csv(\"ensembl_ord_raw.csv\")\n",
    "ensembl2 = ensembl[ensembl['symbol'].isin(adata.var._index.tolist())]\n",
    "adata.var['ensembl'] = ensembl2['ensembl'].tolist()\n",
    "adata.var.set_index(['ensembl'], inplace=True)\n",
    "adata.var.drop(columns=\"_index\", inplace=True)"
   ]
  },
  {
   "cell_type": "code",
   "execution_count": 10,
   "id": "eecca29b",
   "metadata": {},
   "outputs": [],
   "source": [
    "# set \"is_filtered\"\n",
    "filt_genes = pd.read_csv(\"filtered_genes.csv\")\n",
    "adata.var['feature_is_filtered']=adata.var.features.isin(filt_genes['gene'].tolist())"
   ]
  },
  {
   "cell_type": "code",
   "execution_count": 11,
   "id": "f3ee4b13",
   "metadata": {},
   "outputs": [],
   "source": [
    "adata.__dict__['_raw'].__dict__['_var'] = adata.__dict__['_var']"
   ]
  },
  {
   "cell_type": "markdown",
   "id": "5e7377f0",
   "metadata": {},
   "source": [
    "#add ADT to uns\n",
    "adata.uns['antibody_features']: a pandas.DataFrame with each row representing one antibody, where at least one of the following is included for every antibody:\n",
    "Catalog ID (e.g. 100569)\n",
    "Barcode ID (e.g. 0001)\n",
    "Clone ID (e.g RM4-5)\n",
    "\n",
    "adata.uns['antibody_raw.X']: matrix of “raw” counts\n",
    "observations MUST be in the same order as the expression matrix\n",
    "\n",
    "features MUST be in the same order as the dataframe in uns[‘antibody_features’]\n",
    "\n",
    "adata.uns['antibody.X']: matrix of “final” counts\n",
    "observations MUST be in the same order as the expression matrix\n",
    "features MUST be in the same order as the dataframe in uns[‘antibody_features’]"
   ]
  },
  {
   "cell_type": "code",
   "execution_count": 12,
   "id": "3eb71df1",
   "metadata": {},
   "outputs": [],
   "source": [
    "ab = sc.read_h5ad(\"jdm_adt_09-20-23.h5ad\")\n",
    "adt_feats = pd.read_csv(\"adt_feature_df.csv\")\n"
   ]
  },
  {
   "cell_type": "code",
   "execution_count": 13,
   "id": "514b09ad",
   "metadata": {},
   "outputs": [],
   "source": [
    "filt_adts = pd.read_csv(\"filtered_adts.csv\")\n",
    "adt_feats['feature_is_filtered']=adt_feats['Feature ID'].isin(filt_adts['adt'].tolist())"
   ]
  },
  {
   "cell_type": "code",
   "execution_count": 14,
   "id": "3f14d574",
   "metadata": {},
   "outputs": [],
   "source": [
    "adt_feats.set_index(['Feature ID'], inplace=True)"
   ]
  },
  {
   "cell_type": "code",
   "execution_count": 15,
   "id": "14309f48",
   "metadata": {},
   "outputs": [],
   "source": [
    "adata.uns['antibody_features'] = adt_feats\n",
    "adata.uns['antibody.X'] = ab.raw.X\n",
    "adata.uns['antibody.X'] = ab.X"
   ]
  },
  {
   "cell_type": "code",
   "execution_count": null,
   "id": "bc23551e",
   "metadata": {},
   "outputs": [],
   "source": []
  },
  {
   "cell_type": "code",
   "execution_count": null,
   "id": "44d24fe1",
   "metadata": {},
   "outputs": [],
   "source": [
    "#adata.__dict__['_raw'].__dict__['_var'] = adata.__dict__['_raw'].__dict__['_var'].rename(columns={'_index': 'features'})\n",
    "#adata.__dict__['_var'] = adata.__dict__['_var'].rename(columns={'_index': 'features'})\n"
   ]
  },
  {
   "cell_type": "code",
   "execution_count": 16,
   "id": "0f7e2fba",
   "metadata": {},
   "outputs": [],
   "source": [
    "# convert formats for matrices to float32\n",
    "adata.__dict__['_raw'].__dict__['_X'] = adata.raw.X.astype(\"float32\")\n",
    "adata.__dict__['_X'] = adata.X.astype(\"float32\")"
   ]
  },
  {
   "cell_type": "code",
   "execution_count": 17,
   "id": "48610e22",
   "metadata": {},
   "outputs": [],
   "source": [
    "adata.write_h5ad(\"jdm_obj_09-20-23_fixed_v2.h5ad\", compression=\"gzip\")"
   ]
  },
  {
   "cell_type": "code",
   "execution_count": null,
   "id": "aeb015b0",
   "metadata": {},
   "outputs": [],
   "source": [
    "## fix vars"
   ]
  },
  {
   "cell_type": "code",
   "execution_count": 30,
   "id": "dad0a3d2",
   "metadata": {},
   "outputs": [],
   "source": [
    "adata=sc.read_h5ad(\"jdm_obj_09-20-23_fixed_v2.h5ad\")"
   ]
  },
  {
   "cell_type": "code",
   "execution_count": 42,
   "id": "77513a17",
   "metadata": {},
   "outputs": [],
   "source": [
    "adata.obs.drop(\"DA_cat\", axis=1, inplace=True)"
   ]
  },
  {
   "cell_type": "code",
   "execution_count": 48,
   "id": "3ec7832d",
   "metadata": {},
   "outputs": [],
   "source": [
    "adata.obs.rename(columns={\n",
    "    \"medpred\":\"prednisone\", \"preddose\": \"prednisone_dose(mg)\", \n",
    "    \"medmethyl\":\"methylprednisolone\", \"methyldose\":\"methyprednisolone_dose(mg)\",\n",
    "\"medmtx\":\"methotrexate\", \"medhql\":\"hydroxychloroquine\",\n",
    "\"medmmf\":\"mycophenolate_mofetil\", \"medivig\":\"intravenous_immune_globulin\",\n",
    "\"vasglobal\":\"physician_global_VAS\", \"vascutaneous\":\"cutaneous_VAS\",\n",
    "\"vasmuscle\": \"muscle_VAS\", \"cdasiact\":\"CDASI_activity_score\", \n",
    "\"menzymeyn\":\"muscle_enzyme_elevation\", \"mmt8score\":\"MMT8_score\", \"chaqscore\":\"CHAQ_score\",\n",
    "\"vaspatient\":\"patient_global_VAS\", \"MSA\":\"myositis_specific_antibody\"}, inplace=True)"
   ]
  },
  {
   "cell_type": "code",
   "execution_count": 50,
   "id": "ee7d7dd2",
   "metadata": {},
   "outputs": [],
   "source": [
    "adata.write_h5ad(\"jdm_obj_09-21-23.h5ad\")"
   ]
  },
  {
   "cell_type": "code",
   "execution_count": null,
   "id": "831086f1",
   "metadata": {},
   "outputs": [],
   "source": []
  }
 ],
 "metadata": {
  "kernelspec": {
   "display_name": "Python 3 (ipykernel)",
   "language": "python",
   "name": "python3"
  },
  "language_info": {
   "codemirror_mode": {
    "name": "ipython",
    "version": 3
   },
   "file_extension": ".py",
   "mimetype": "text/x-python",
   "name": "python",
   "nbconvert_exporter": "python",
   "pygments_lexer": "ipython3",
   "version": "3.8.17"
  }
 },
 "nbformat": 4,
 "nbformat_minor": 5
}
